{
 "cells": [
  {
   "cell_type": "code",
   "execution_count": 1,
   "id": "alpha-bathroom",
   "metadata": {},
   "outputs": [],
   "source": [
    "import pyqofta as pqt\n",
    "import numpy as np\n",
    "import matplotlib.pyplot as plt"
   ]
  },
  {
   "cell_type": "code",
   "execution_count": 37,
   "id": "central-keeping",
   "metadata": {},
   "outputs": [
    {
     "data": {
      "text/plain": [
       "137.545260587924"
      ]
     },
     "execution_count": 37,
     "metadata": {},
     "output_type": "execute_result"
    }
   ],
   "source": [
    "cs2_path = \"/Users/kyleacheson/PycharmProjects/PyQOFTA/data/Trajectories/CS2/diss/TRAJ_00010/output.xyz\"\n",
    "cs2 = pqt.TrajectorySH.init_from_xyz(cs2_path)\n",
    "cs2_mol = cs2.geometries[-300]\n",
    "cs2_mol.angle([1,0,2])"
   ]
  },
  {
   "cell_type": "code",
   "execution_count": 8,
   "id": "substantial-damage",
   "metadata": {},
   "outputs": [],
   "source": [
    "def com(molecule):\n",
    "    tot = np.zeros((1,3))\n",
    "    for i in range(molecule.natoms):\n",
    "        tot = tot + molecule.Zs[i]*molecule.coordinates[i,:]\n",
    "    centre_mass = tot/np.sum(molecule.Zs)\n",
    "    return centre_mass\n",
    "\n",
    "        "
   ]
  },
  {
   "cell_type": "code",
   "execution_count": 70,
   "id": "close-framing",
   "metadata": {},
   "outputs": [],
   "source": [
    "mol = pqt.Molecule(['C'], np.array([[0, 0, 0]]))"
   ]
  },
  {
   "cell_type": "code",
   "execution_count": 71,
   "id": "pregnant-coating",
   "metadata": {},
   "outputs": [
    {
     "name": "stdout",
     "output_type": "stream",
     "text": [
      "[[0. 0. 0.]]\n"
     ]
    }
   ],
   "source": [
    "cm = com(mol)\n",
    "print(cm)"
   ]
  },
  {
   "cell_type": "code",
   "execution_count": 72,
   "id": "inner-police",
   "metadata": {},
   "outputs": [
    {
     "name": "stdout",
     "output_type": "stream",
     "text": [
      "[[0. 0. 0.]]\n"
     ]
    }
   ],
   "source": []
  }
 ],
 "metadata": {
  "kernelspec": {
   "display_name": "pyqofta_notebook",
   "language": "python",
   "name": "pyqofta_notebook"
  },
  "language_info": {
   "codemirror_mode": {
    "name": "ipython",
    "version": 3
   },
   "file_extension": ".py",
   "mimetype": "text/x-python",
   "name": "python",
   "nbconvert_exporter": "python",
   "pygments_lexer": "ipython3",
   "version": "3.9.13"
  }
 },
 "nbformat": 4,
 "nbformat_minor": 5
}
